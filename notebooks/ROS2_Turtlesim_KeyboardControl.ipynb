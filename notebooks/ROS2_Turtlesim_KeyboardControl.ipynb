{
 "cells": [
  {
   "cell_type": "code",
   "execution_count": 1,
   "id": "756983a9",
   "metadata": {
    "tags": []
   },
   "outputs": [],
   "source": [
    "# pip install jupyros\n",
    "\n",
    "import rclpy as rp\n",
    "import jupyros.ros2 as jr2\n",
    "import jupyros.ros2.turtle_sim as turtle\n",
    "from turtlesim.srv import Spawn\n",
    "from turtlesim.msg import Pose\n",
    "from time import time\n",
    "import os\n",
    "from std_msgs.msg import String\n",
    "from geometry_msgs.msg import Twist\n",
    "from sidecar import Sidecar\n",
    "from time import time, sleep\n",
    "import math\n",
    "\n"
   ]
  },
  {
   "cell_type": "code",
   "execution_count": 2,
   "id": "bab687bc",
   "metadata": {},
   "outputs": [],
   "source": [
    "# Initialize ROS communications for a given context\n",
    "if(rp.ok() == False):\n",
    "    rp.init()\n",
    "else:\n",
    "    print(\"rclpy already initiated\")"
   ]
  },
  {
   "cell_type": "code",
   "execution_count": 3,
   "id": "f1ca8ba5",
   "metadata": {},
   "outputs": [],
   "source": [
    "superturtle = rp.create_node(\"superturtle\")\n",
    "keyInput = rp.create_node(\"keyInput\")\n",
    "com = rp.create_node(\"com\")\n",
    "simple = rp.create_node(\"simple\")\n",
    "translate = rp.create_node(\"translate\")"
   ]
  },
  {
   "cell_type": "code",
   "execution_count": 4,
   "id": "c89db3c7",
   "metadata": {},
   "outputs": [
    {
     "data": {
      "application/vnd.jupyter.widget-view+json": {
       "model_id": "ecf95f0515744b138abda3ec08caf590",
       "version_major": 2,
       "version_minor": 0
      },
      "text/plain": [
       "Canvas()"
      ]
     },
     "metadata": {},
     "output_type": "display_data"
    },
    {
     "data": {
      "application/vnd.jupyter.widget-view+json": {
       "model_id": "846cfd31f78441bc92c9586eb3ad9cbc",
       "version_major": 2,
       "version_minor": 0
      },
      "text/plain": [
       "Output()"
      ]
     },
     "metadata": {},
     "output_type": "display_data"
    }
   ],
   "source": [
    "key_send = jr2.KeyInput(keyInput, String, '/keyboard_stream')\n",
    "key_send.display_inputs()"
   ]
  },
  {
   "cell_type": "code",
   "execution_count": 5,
   "id": "15c80518",
   "metadata": {
    "tags": []
   },
   "outputs": [
    {
     "name": "stdout",
     "output_type": "stream",
     "text": [
      "turtle1 has spawned.\n"
     ]
    }
   ],
   "source": [
    "\n",
    "turtlesim = turtle.TurtleSim(background_color=\"#0000FF\")\n"
   ]
  },
  {
   "cell_type": "code",
   "execution_count": 6,
   "id": "46642e2a",
   "metadata": {},
   "outputs": [
    {
     "data": {
      "application/vnd.jupyter.widget-view+json": {
       "model_id": "ac35b53a635c419ead4cf6549a90f840",
       "version_major": 2,
       "version_minor": 0
      },
      "text/plain": [
       "MultiCanvas(height=1600, layout=Layout(width='100%'), width=1600)"
      ]
     },
     "metadata": {},
     "output_type": "display_data"
    }
   ],
   "source": [
    "\n",
    "display(turtlesim.canvas)"
   ]
  },
  {
   "cell_type": "markdown",
   "id": "be5828de",
   "metadata": {},
   "source": [
    "**TIP:** When using JupyterLab, you can right-click on the canvas and select *Create New View from Output*"
   ]
  },
  {
   "cell_type": "code",
   "execution_count": 7,
   "id": "1d7a7403",
   "metadata": {},
   "outputs": [
    {
     "name": "stdout",
     "output_type": "stream",
     "text": [
      "{'x': 800, 'y': 800, 'theta': 0}\n"
     ]
    }
   ],
   "source": [
    "poses = {}\n",
    "\n",
    "for name in turtlesim.turtles.keys():\n",
    "    poses[name] = turtlesim.turtles[name].pose\n",
    "\n",
    "print(poses[\"turtle1\"])"
   ]
  },
  {
   "cell_type": "code",
   "execution_count": 8,
   "id": "878c6891",
   "metadata": {},
   "outputs": [
    {
     "data": {
      "text/plain": [
       "{'x': 800, 'y': 800, 'theta': 0}"
      ]
     },
     "execution_count": 8,
     "metadata": {},
     "output_type": "execute_result"
    }
   ],
   "source": [
    "turtlesim.turtles[name].pose"
   ]
  },
  {
   "cell_type": "code",
   "execution_count": 9,
   "id": "4bd670a2",
   "metadata": {},
   "outputs": [
    {
     "data": {
      "application/vnd.jupyter.widget-view+json": {
       "model_id": "4217182c735848a894a92b82f0e1b5c9",
       "version_major": 2,
       "version_minor": 0
      },
      "text/plain": [
       "VBox(children=(HBox(children=(Button(description='Start', style=ButtonStyle()), Button(description='Stop', sty…"
      ]
     },
     "metadata": {},
     "output_type": "display_data"
    }
   ],
   "source": [
    "topic_name = '/keyboard_stream'\n",
    "def move_turtles(msg):\n",
    "    scale = 0.1\n",
    "    name = \"turtle1\"\n",
    "\n",
    "    poses[name] = {\"x\": turtlesim.turtles[name].pose[\"x\"] + msg.linear.x*math.cos(turtlesim.turtles[name].pose[\"theta\"])/scale,\n",
    "                   \"y\": turtlesim.turtles[name].pose[\"y\"] - msg.linear.x*math.sin(turtlesim.turtles[name].pose[\"theta\"] )/scale,\n",
    "                   \"theta\": turtlesim.turtles[name].pose[\"theta\"] + msg.angular.z/ 180 * math.pi}\n",
    "\n",
    "\n",
    "    turtlesim.move_turtles(new_poses=poses)\n",
    "\n",
    "\n",
    "\n",
    "\n",
    "def cb(msg):\n",
    "    # Receive string msg and translate\n",
    "\n",
    "    key = msg.data\n",
    "\n",
    "    #### General Keybindings  \"key: (x, y, z, a (alpha), b (beta), g (gamma)\"\n",
    "\n",
    "    moveBindings = {\n",
    "    'ArrowLeft': (0,0,0,0, 0, 1),\n",
    "    'ArrowRight':(0,0,0,0, 0, -1),\n",
    "    'ArrowUp': (1,0,0,0, 0, 0, 0),\n",
    "    'ArrowDown': (-1,0,0,0, 0, 0)\n",
    "    }\n",
    "\n",
    "    \"\"\"\n",
    "    'i': (1, 0, 0, 0, 0, 0),\n",
    "    'o': (1, 0, 0, -1, 0, 0)),\n",
    "    \"\"\"\n",
    "\n",
    "    ## General Keybinding Decoder\n",
    "    if key in moveBindings.keys():\n",
    "        x = float(moveBindings[key][0])\n",
    "        y = float(moveBindings[key][1])\n",
    "        z = float(moveBindings[key][2])\n",
    "        a = float(moveBindings[key][3])\n",
    "        b = float(moveBindings[key][4])\n",
    "        g = float(moveBindings[key][5])\n",
    "\n",
    "    else:\n",
    "        x = 0.0\n",
    "        y = 0.0\n",
    "        z = 0.0\n",
    "        a = 0.0\n",
    "        b = 0.0\n",
    "        g = 0.0\n",
    "\n",
    "\n",
    "\n",
    "    twist = Twist()\n",
    "    twist.linear.x = x\n",
    "    twist.angular.z = g\n",
    "\n",
    "    move_turtles(twist)\n",
    "\n",
    "\n",
    "turtle_control = jr2.Subscriber(keyInput, String, topic_name, cb)\n",
    "turtle_control.display()"
   ]
  },
  {
   "cell_type": "code",
   "execution_count": null,
   "id": "72a52cac",
   "metadata": {},
   "outputs": [],
   "source": []
  },
  {
   "cell_type": "code",
   "execution_count": null,
   "id": "69a3084a",
   "metadata": {},
   "outputs": [],
   "source": []
  }
 ],
 "metadata": {
  "kernelspec": {
   "display_name": "Python 3 (ipykernel)",
   "language": "python",
   "name": "python3"
  },
  "language_info": {
   "codemirror_mode": {
    "name": "ipython",
    "version": 3
   },
   "file_extension": ".py",
   "mimetype": "text/x-python",
   "name": "python",
   "nbconvert_exporter": "python",
   "pygments_lexer": "ipython3",
   "version": "3.10.13"
  }
 },
 "nbformat": 4,
 "nbformat_minor": 5
}
